{
 "cells": [
  {
   "cell_type": "markdown",
   "metadata": {
    "collapsed": false
   },
   "source": [
    "# Using PyTorch "
   ]
  },
  {
   "cell_type": "markdown",
   "metadata": {},
   "source": [
    "## Load Data"
   ]
  },
  {
   "cell_type": "code",
   "execution_count": 1,
   "metadata": {
    "collapsed": false
   },
   "outputs": [],
   "source": [
    "import numpy as np\n",
    "import matplotlib.pyplot as plt\n",
    "from sklearn.datasets import fetch_mldata\n",
    "from sklearn.model_selection import train_test_split\n",
    "%matplotlib inline"
   ]
  },
  {
   "cell_type": "code",
   "execution_count": 17,
   "metadata": {
    "collapsed": false
   },
   "outputs": [],
   "source": [
    "# load MNIST data\n",
    "mnist = fetch_mldata('MNIST original')\n",
    "\n",
    "X_train, X_test, y_train,  y_test = train_test_split(\n",
    "    mnist.data.astype('float32'), mnist.target.astype('uint8'), test_size=0.25, random_state=42)\n",
    "\n",
    "X_train /= 255.0\n",
    "X_test /= 255.0"
   ]
  },
  {
   "cell_type": "code",
   "execution_count": 18,
   "metadata": {
    "collapsed": false
   },
   "outputs": [],
   "source": [
    "#基本関数\n",
    "import torch\n",
    "import torch.nn as nn\n",
    "import torch.optim as optim\n",
    "from torch.autograd import Variable\n",
    "import torch.nn.functional as F\n",
    "import torch.utils.data"
   ]
  },
  {
   "cell_type": "code",
   "execution_count": 19,
   "metadata": {
    "collapsed": false
   },
   "outputs": [],
   "source": [
    "#データセットのDataLoader化\n",
    "train = torch.utils.data.TensorDataset(torch.from_numpy(X_train), torch.from_numpy(y_train))\n",
    "train_loader = torch.utils.data.DataLoader(train, batch_size=100, shuffle=True)\n",
    "test = torch.utils.data.TensorDataset(torch.from_numpy(X_test), torch.from_numpy(y_test))\n",
    "test_loader = torch.utils.data.DataLoader(train, batch_size=100, shuffle=True)"
   ]
  },
  {
   "cell_type": "markdown",
   "metadata": {},
   "source": [
    "## Full Connected Layer"
   ]
  },
  {
   "cell_type": "code",
   "execution_count": 20,
   "metadata": {
    "collapsed": true
   },
   "outputs": [],
   "source": [
    "class Net(nn.Module):\n",
    "    def __init__(self):\n",
    "        super(Net, self).__init__()\n",
    "        self.fc1 = nn.Linear(784,500)\n",
    "        self.fc2 = nn.Linear(500, 84)\n",
    "        self.fc3 = nn.Linear(84, 10)\n",
    "\n",
    "    def forward(self, x):\n",
    "        x = F.relu(self.fc1(x))\n",
    "        x = F.relu(self.fc2(x))\n",
    "        x = F.log_softmax(self.fc3(x))\n",
    "        return x\n",
    "\n",
    "model = Net()"
   ]
  },
  {
   "cell_type": "code",
   "execution_count": 21,
   "metadata": {
    "collapsed": true
   },
   "outputs": [],
   "source": [
    "#最適化手法\n",
    "optimizer = optim.SGD(model.parameters(), lr=0.001, momentum=0.9)"
   ]
  },
  {
   "cell_type": "code",
   "execution_count": 22,
   "metadata": {
    "collapsed": false
   },
   "outputs": [],
   "source": [
    "def train(epoch, model):\n",
    "    model.train()\n",
    "    loss_history = []\n",
    "    for _ in range(epoch):\n",
    "        running_loss = 0.0\n",
    "        for i, data in enumerate(train_loader):\n",
    "           \n",
    "            inputs, labels = data\n",
    "            inputs, labels = Variable(inputs), Variable(labels)\n",
    "            optimizer.zero_grad()\n",
    "            output = model(inputs)\n",
    "\n",
    "            #negative log-likelihood loss\n",
    "            loss = F.nll_loss(output, labels)\n",
    "            running_loss += loss.data[0]\n",
    "\n",
    "            #backpropagation\n",
    "            loss.backward()\n",
    "            optimizer.step()\n",
    "            \n",
    "        print('[epoch %d]  loss: %.3f' % (_ + 1, running_loss / len(train_loader)))\n",
    "        loss_history.append(running_loss / len(train_loader))\n",
    "\n",
    "    return loss_history"
   ]
  },
  {
   "cell_type": "code",
   "execution_count": 23,
   "metadata": {
    "collapsed": false
   },
   "outputs": [
    {
     "name": "stdout",
     "output_type": "stream",
     "text": [
      "[epoch 1]  loss: 2.124\n",
      "[epoch 2]  loss: 1.094\n",
      "[epoch 3]  loss: 0.567\n",
      "[epoch 4]  loss: 0.437\n",
      "[epoch 5]  loss: 0.384\n",
      "[epoch 6]  loss: 0.353\n",
      "[epoch 7]  loss: 0.332\n",
      "[epoch 8]  loss: 0.315\n",
      "[epoch 9]  loss: 0.302\n",
      "[epoch 10]  loss: 0.290\n",
      "[epoch 11]  loss: 0.278\n",
      "[epoch 12]  loss: 0.269\n",
      "[epoch 13]  loss: 0.259\n",
      "[epoch 14]  loss: 0.250\n",
      "[epoch 15]  loss: 0.241\n",
      "[epoch 16]  loss: 0.234\n",
      "[epoch 17]  loss: 0.226\n",
      "[epoch 18]  loss: 0.218\n",
      "[epoch 19]  loss: 0.211\n",
      "[epoch 20]  loss: 0.204\n"
     ]
    }
   ],
   "source": [
    "history = train(20, model)"
   ]
  },
  {
   "cell_type": "code",
   "execution_count": 24,
   "metadata": {
    "collapsed": false
   },
   "outputs": [
    {
     "data": {
      "image/png": "[encoded data removed]",
      "text/plain": [
       "<matplotlib.figure.Figure at 0x1216ef590>"
      ]
     },
     "metadata": {},
     "output_type": "display_data"
    }
   ],
   "source": [
    "plt.plot(history)\n",
    "plt.title(\"loss\")\n",
    "plt.show()"
   ]
  },
  {
   "cell_type": "code",
   "execution_count": 25,
   "metadata": {
    "collapsed": false
   },
   "outputs": [
    {
     "name": "stdout",
     "output_type": "stream",
     "text": [
      "Accuracy of the network on the 10000 test images: 94 %\n"
     ]
    }
   ],
   "source": [
    "#Accuracy\n",
    "correct = 0\n",
    "total = 0\n",
    "for data in test_loader:\n",
    "    images, labels = data\n",
    "    outputs = model(Variable(images))\n",
    "    _, predicted = torch.max(outputs.data, 1)\n",
    "    total += labels.size(0)\n",
    "    correct += (predicted == labels).sum()\n",
    "\n",
    "print('Accuracy of the network on the 10000 test images: %d %%' % (\n",
    "    100 * correct / total))"
   ]
  },
  {
   "cell_type": "markdown",
   "metadata": {
    "collapsed": true
   },
   "source": [
    "## Auto Encoder"
   ]
  },
  {
   "cell_type": "code",
   "execution_count": 26,
   "metadata": {
    "collapsed": false
   },
   "outputs": [],
   "source": [
    "class AE(nn.Module):\n",
    "    def __init__(self):\n",
    "        super(AE, self).__init__()\n",
    "        self.fc1 = nn.Linear(784,500)\n",
    "        self.fc2 = nn.Linear(500, 84)\n",
    "        self.fc3 = nn.Linear(84, 500)\n",
    "        self.fc4 = nn.Linear(500, 784)\n",
    "\n",
    "    def forward(self, x):\n",
    "        x = F.relu(self.fc1(x))\n",
    "        x = F.relu(self.fc2(x))\n",
    "        x = F.relu(self.fc3(x))\n",
    "        x = F.sigmoid(self.fc4(x))\n",
    "        return x"
   ]
  },
  {
   "cell_type": "code",
   "execution_count": 27,
   "metadata": {
    "collapsed": true
   },
   "outputs": [],
   "source": [
    "#ネットワーク定義\n",
    "model_ae = AE()\n",
    "#最適化手法\n",
    "optimizer = optim.Adam(model_ae.parameters(), lr=1e-3)\n",
    "#loss関数の定義\n",
    "criterion = nn.BCELoss()"
   ]
  },
  {
   "cell_type": "code",
   "execution_count": 28,
   "metadata": {
    "collapsed": true
   },
   "outputs": [],
   "source": [
    "def train(epoch, model):\n",
    "    model.train()\n",
    "    loss_history = []\n",
    "    for loop in range(epoch):\n",
    "        running_loss = 0.0\n",
    "        for i, data in enumerate(train_loader):\n",
    "           \n",
    "            inputs, _ = data\n",
    "            inputs = Variable(inputs)\n",
    "            optimizer.zero_grad()\n",
    "            output = model(inputs)\n",
    "\n",
    "            loss = criterion(output, inputs) #re-write\n",
    "            running_loss += loss.data[0]\n",
    "\n",
    "            #backpropagation\n",
    "            loss.backward()\n",
    "            optimizer.step()\n",
    "            \n",
    "        print('[epoch %d]  loss: %.3f' % (loop + 1, running_loss / len(train_loader)))\n",
    "        loss_history.append(running_loss / len(train_loader))\n",
    "\n",
    "    return loss_history"
   ]
  },
  {
   "cell_type": "code",
   "execution_count": 29,
   "metadata": {
    "collapsed": false
   },
   "outputs": [
    {
     "name": "stdout",
     "output_type": "stream",
     "text": [
      "[epoch 1]  loss: 0.164\n",
      "[epoch 2]  loss: 0.098\n",
      "[epoch 3]  loss: 0.088\n",
      "[epoch 4]  loss: 0.083\n",
      "[epoch 5]  loss: 0.080\n",
      "[epoch 6]  loss: 0.078\n",
      "[epoch 7]  loss: 0.076\n",
      "[epoch 8]  loss: 0.075\n",
      "[epoch 9]  loss: 0.074\n",
      "[epoch 10]  loss: 0.074\n"
     ]
    }
   ],
   "source": [
    "history = train(10,model_ae)"
   ]
  },
  {
   "cell_type": "code",
   "execution_count": 30,
   "metadata": {
    "collapsed": false
   },
   "outputs": [
    {
     "data": {
      "image/png": "[encoded data removed]",
      "text/plain": [
       "<matplotlib.figure.Figure at 0x10400d790>"
      ]
     },
     "metadata": {},
     "output_type": "display_data"
    }
   ],
   "source": [
    "plt.plot(history)\n",
    "plt.title(\"loss\")\n",
    "plt.show()"
   ]
  },
  {
   "cell_type": "code",
   "execution_count": 31,
   "metadata": {
    "collapsed": true
   },
   "outputs": [],
   "source": [
    "import torchvision"
   ]
  },
  {
   "cell_type": "code",
   "execution_count": 32,
   "metadata": {
    "collapsed": false
   },
   "outputs": [],
   "source": [
    "#1バッチ分の画像とラベルの読み込み\n",
    "dataiter = iter(train_loader)\n",
    "images, _ = dataiter.next()\n",
    "outputs = model_ae(Variable(images))"
   ]
  },
  {
   "cell_type": "code",
   "execution_count": 33,
   "metadata": {
    "collapsed": false
   },
   "outputs": [
    {
     "data": {
      "image/png": "[encoded data removed]",
      "text/plain": [
       "<matplotlib.figure.Figure at 0x114a3a790>"
      ]
     },
     "metadata": {},
     "output_type": "display_data"
    },
    {
     "data": {
      "image/png": "[encoded data removed]",
      "text/plain": [
       "<matplotlib.figure.Figure at 0x113c5ccd0>"
      ]
     },
     "metadata": {},
     "output_type": "display_data"
    },
    {
     "data": {
      "image/png": "[encoded data removed]",
      "text/plain": [
       "<matplotlib.figure.Figure at 0x10b753dd0>"
      ]
     },
     "metadata": {},
     "output_type": "display_data"
    },
    {
     "data": {
      "image/png": "[encoded data removed]",
      "text/plain": [
       "<matplotlib.figure.Figure at 0x10c21b250>"
      ]
     },
     "metadata": {},
     "output_type": "display_data"
    },
    {
     "data": {
      "image/png": "[encoded data removed]",
      "text/plain": [
       "<matplotlib.figure.Figure at 0x10c2b5810>"
      ]
     },
     "metadata": {},
     "output_type": "display_data"
    }
   ],
   "source": [
    "for i in range(5):\n",
    "    plt.subplot(121)\n",
    "    plt.imshow(images.numpy()[i].reshape(28,28),cmap='gray')\n",
    "    plt.subplot(122)\n",
    "    plt.imshow(outputs.data.numpy()[i].reshape(28,28),cmap='gray')\n",
    "    plt.show()"
   ]
  },
  {
   "cell_type": "markdown",
   "metadata": {},
   "source": [
    "## Denoising Auto Encoder"
   ]
  },
  {
   "cell_type": "code",
   "execution_count": 34,
   "metadata": {
    "collapsed": true
   },
   "outputs": [],
   "source": [
    "class DAE(nn.Module):\n",
    "    def __init__(self):\n",
    "        super(DAE, self).__init__()\n",
    "        self.fc1 = nn.Linear(784,500)\n",
    "        self.fc2 = nn.Linear(500, 84)\n",
    "        self.fc3 = nn.Linear(84, 500)\n",
    "        self.fc4 = nn.Linear(500, 784)\n",
    "\n",
    "    def forward(self, x):\n",
    "        x = F.relu(self.fc1(x))\n",
    "        x = F.relu(self.fc2(x))\n",
    "        x = F.relu(self.fc3(x))\n",
    "        x = F.sigmoid(self.fc4(x))\n",
    "        return x"
   ]
  },
  {
   "cell_type": "code",
   "execution_count": 35,
   "metadata": {
    "collapsed": false
   },
   "outputs": [],
   "source": [
    "#ネットワーク定義\n",
    "model_dae = DAE()\n",
    "#最適化手法\n",
    "optimizer = optim.Adam(model_dae.parameters(), lr=1e-3)\n",
    "#loss関数の定義\n",
    "criterion = nn.BCELoss()"
   ]
  },
  {
   "cell_type": "code",
   "execution_count": 36,
   "metadata": {
    "collapsed": true
   },
   "outputs": [],
   "source": [
    "def train(epoch, model):\n",
    "    model.train()\n",
    "    loss_history = []\n",
    "    for loop in range(epoch):\n",
    "        running_loss = 0.0\n",
    "        for i, data in enumerate(train_loader):\n",
    "           \n",
    "            inputs, _ = data\n",
    "            inputs = Variable(inputs)\n",
    "            inputs_noise = inputs + Variable(0.5 * torch.randn(inputs.size()))\n",
    "            optimizer.zero_grad()\n",
    "            output = model(inputs_noise)\n",
    "\n",
    "            loss = criterion(output, inputs) #re-write\n",
    "            running_loss += loss.data[0]\n",
    "\n",
    "            #backpropagation\n",
    "            loss.backward()\n",
    "            optimizer.step()\n",
    "            \n",
    "        print('[epoch %d]  loss: %.3f' % (loop + 1, running_loss / len(train_loader)))\n",
    "        loss_history.append(running_loss / len(train_loader))\n",
    "\n",
    "    return loss_history"
   ]
  },
  {
   "cell_type": "code",
   "execution_count": 37,
   "metadata": {
    "collapsed": false
   },
   "outputs": [
    {
     "name": "stdout",
     "output_type": "stream",
     "text": [
      "[epoch 1]  loss: 0.180\n",
      "[epoch 2]  loss: 0.124\n",
      "[epoch 3]  loss: 0.115\n",
      "[epoch 4]  loss: 0.111\n",
      "[epoch 5]  loss: 0.108\n",
      "[epoch 6]  loss: 0.106\n",
      "[epoch 7]  loss: 0.105\n",
      "[epoch 8]  loss: 0.104\n",
      "[epoch 9]  loss: 0.103\n",
      "[epoch 10]  loss: 0.103\n"
     ]
    }
   ],
   "source": [
    "history = train(10,model_dae)"
   ]
  },
  {
   "cell_type": "code",
   "execution_count": 40,
   "metadata": {
    "collapsed": false
   },
   "outputs": [],
   "source": [
    "#1バッチ分の画像とラベルの読み込み\n",
    "dataiter = iter(train_loader)\n",
    "images, labels = dataiter.next()\n",
    "images_noise = images + 0.5 * torch.randn(images.size())\n",
    "outputs = model_dae(Variable(images_noise))"
   ]
  },
  {
   "cell_type": "code",
   "execution_count": 41,
   "metadata": {
    "collapsed": false
   },
   "outputs": [
    {
     "data": {
      "image/png": "[encoded data removed]",
      "text/plain": [
       "<matplotlib.figure.Figure at 0x113dc5210>"
      ]
     },
     "metadata": {},
     "output_type": "display_data"
    },
    {
     "data": {
      "image/png": "[encoded data removed]",
      "text/plain": [
       "<matplotlib.figure.Figure at 0x10c29d210>"
      ]
     },
     "metadata": {},
     "output_type": "display_data"
    },
    {
     "data": {
      "image/png": "[encoded data removed]",
      "text/plain": [
       "<matplotlib.figure.Figure at 0x113fd0fd0>"
      ]
     },
     "metadata": {},
     "output_type": "display_data"
    },
    {
     "data": {
      "image/png": "[encoded data removed]",
      "text/plain": [
       "<matplotlib.figure.Figure at 0x108285f90>"
      ]
     },
     "metadata": {},
     "output_type": "display_data"
    },
    {
     "data": {
      "image/png": "[encoded data removed]",
      "text/plain": [
       "<matplotlib.figure.Figure at 0x113c3b0d0>"
      ]
     },
     "metadata": {},
     "output_type": "display_data"
    }
   ],
   "source": [
    "for i in range(5):\n",
    "    plt.subplot(131)\n",
    "    plt.imshow(images.numpy()[i].reshape(28,28),cmap='gray')\n",
    "    plt.subplot(132)\n",
    "    plt.imshow(images_noise.numpy()[i].reshape(28,28),cmap='gray')\n",
    "    plt.subplot(133)\n",
    "    plt.imshow(outputs.data.numpy()[i].reshape(28,28),cmap='gray')\n",
    "    plt.show()"
   ]
  },
  {
   "cell_type": "markdown",
   "metadata": {},
   "source": [
    "## Stacked Auto Encoder"
   ]
  },
  {
   "cell_type": "code",
   "execution_count": null,
   "metadata": {
    "collapsed": false
   },
   "outputs": [],
   "source": [
    "class SAE(nn.Module):\n",
    "    flag = 0\n",
    "    def __init__(self):\n",
    "        super(SAE, self).__init__()\n",
    "        self.fc1 = nn.Linear(784,500)\n",
    "        self.fc2 = nn.Linear(500, 500)\n",
    "        self.fc3 = nn.Linear(500, 10)\n",
    "        self.fc3_ = nn.Linear(10,500)\n",
    "        self.fc2_ = nn.Linear(500, 500)\n",
    "        self.fc1_ = nn.Linear(500, 784)\n",
    "\n",
    "    def forward(self, x):\n",
    "        if(self.flag==1):\n",
    "            x = F.relu(self.fc1(x))\n",
    "            x = F.sigmoid(self.fc1_(x))\n",
    "        elif(self.flag==2):\n",
    "            self.fc1.requires_grad = False\n",
    "            self.fc1_.requires_grad = False\n",
    "            x = F.relu(self.fc1(x))\n",
    "            x = F.relu(self.fc2(x))\n",
    "            x = F.relu(self.fc2_(x))\n",
    "            x = F.sigmoid(self.fc1_(x))\n",
    "        elif(self.flag==3):\n",
    "            self.fc2.requires_grad = False\n",
    "            self.fc2_.requires_grad = False\n",
    "            x = F.relu(self.fc1(x))\n",
    "            x = F.relu(self.fc2(x))\n",
    "            x = F.relu(self.fc3(x))\n",
    "            x = F.relu(self.fc3_(x))\n",
    "            x = F.relu(self.fc2_(x))\n",
    "            x = F.sigmoid(self.fc1_(x))\n",
    "        elif(self.flag==4): #Fine Tuning\n",
    "            self.fc1.requires_grad = True\n",
    "            self.fc1_.requires_grad = True\n",
    "            self.fc2.requires_grad = True\n",
    "            self.fc2_.requires_grad = True\n",
    "            x = F.relu(self.fc1(x))\n",
    "            x = F.relu(self.fc2(x))\n",
    "            x = F.relu(self.fc3(x))\n",
    "            x = F.relu(self.fc3_(x))\n",
    "            x = F.relu(self.fc2_(x))\n",
    "            x = F.sigmoid(self.fc1_(x))\n",
    "        return x"
   ]
  },
  {
   "cell_type": "code",
   "execution_count": null,
   "metadata": {
    "collapsed": false
   },
   "outputs": [],
   "source": [
    "#ネットワーク定義\n",
    "model_sae = SAE()\n",
    "#最適化手法\n",
    "optimizer = optim.Adam(model_sae.parameters(), lr=1e-3)\n",
    "#loss関数の定義\n",
    "criterion = nn.BCELoss()"
   ]
  },
  {
   "cell_type": "code",
   "execution_count": null,
   "metadata": {
    "collapsed": true
   },
   "outputs": [],
   "source": [
    "def train(epoch, model, flag):\n",
    "    model.train()\n",
    "    model.flag = flag\n",
    "    print (\"training: \" + str(flag))\n",
    "    loss_history = []\n",
    "    for loop in range(epoch):\n",
    "        running_loss = 0.0\n",
    "        for i, data in enumerate(train_loader):\n",
    "           \n",
    "            inputs, _ = data\n",
    "            inputs = Variable(inputs)\n",
    "            optimizer.zero_grad()\n",
    "            output = model(inputs)\n",
    "\n",
    "            loss = criterion(output, inputs) #re-write\n",
    "            running_loss += loss.data[0]\n",
    "\n",
    "            #backpropagation\n",
    "            loss.backward()\n",
    "            optimizer.step()\n",
    "            \n",
    "        print('[epoch %d]  loss: %.3f' % (loop + 1, running_loss / len(train_loader)))\n",
    "        loss_history.append(running_loss / len(train_loader))\n",
    "\n",
    "    return loss_history"
   ]
  },
  {
   "cell_type": "code",
   "execution_count": null,
   "metadata": {
    "collapsed": false
   },
   "outputs": [],
   "source": [
    "history=[]\n",
    "history.append(train(10,model_sae,1))\n",
    "history.append(train(10,model_sae,2))\n",
    "history.append(train(10,model_sae,3))\n",
    "history.append(train(10,model_sae,4))"
   ]
  },
  {
   "cell_type": "code",
   "execution_count": null,
   "metadata": {
    "collapsed": false
   },
   "outputs": [],
   "source": [
    "history=np.array(history)\n",
    "plt.plot(history.T)\n",
    "plt.title(\"loss\")\n",
    "plt.show()"
   ]
  },
  {
   "cell_type": "markdown",
   "metadata": {},
   "source": [
    "### SAEの学習チェック"
   ]
  },
  {
   "cell_type": "code",
   "execution_count": null,
   "metadata": {
    "collapsed": true
   },
   "outputs": [],
   "source": [
    "#1バッチ分の画像とラベルの読み込み\n",
    "dataiter = iter(train_loader)\n",
    "images, labels = dataiter.next()\n",
    "outputs = model_sae(Variable(images))"
   ]
  },
  {
   "cell_type": "code",
   "execution_count": null,
   "metadata": {
    "collapsed": false
   },
   "outputs": [],
   "source": [
    "for i in range(5):\n",
    "    plt.subplot(121)\n",
    "    plt.imshow(images.numpy()[i].reshape(28,28),cmap='gray')\n",
    "    plt.subplot(122)\n",
    "    plt.imshow(outputs.data.numpy()[i].reshape(28,28),cmap='gray')\n",
    "    plt.show()"
   ]
  },
  {
   "cell_type": "markdown",
   "metadata": {},
   "source": [
    "### 全データを使った可視化"
   ]
  },
  {
   "cell_type": "code",
   "execution_count": null,
   "metadata": {
    "collapsed": false
   },
   "outputs": [],
   "source": [
    "for i, data in enumerate(train_loader):\n",
    "    inputs, labels = data\n",
    "    inputs = Variable(inputs)\n",
    "    x = F.relu(model_sae.fc1(inputs))\n",
    "    x = F.relu(model_sae.fc2(x))\n",
    "    output = F.relu(model_sae.fc3(x))\n",
    "    if i == 0:\n",
    "        total_output = output.data\n",
    "        total_labels = labels\n",
    "    else:\n",
    "        total_output = torch.cat([total_output, output.data])\n",
    "        total_labels = torch.cat([total_labels, labels])"
   ]
  },
  {
   "cell_type": "code",
   "execution_count": null,
   "metadata": {
    "collapsed": true
   },
   "outputs": [],
   "source": [
    "#PCAによる次元削減\n",
    "from sklearn.decomposition import PCA"
   ]
  },
  {
   "cell_type": "code",
   "execution_count": null,
   "metadata": {
    "collapsed": false
   },
   "outputs": [],
   "source": [
    "pca = PCA(n_components = 2)\n",
    "pca_x = pca.fit_transform(total_output.numpy())"
   ]
  },
  {
   "cell_type": "code",
   "execution_count": null,
   "metadata": {
    "collapsed": false
   },
   "outputs": [],
   "source": [
    "for i in range(10): \n",
    "    plot_x = pca_x[np.where(total_labels.numpy()==i),0]\n",
    "    plot_y = pca_x[np.where(total_labels.numpy()==i),1]\n",
    "    \n",
    "    #全部プロットすると時間かかるので400個だけ\n",
    "    plt.plot(plot_x[0,:400], plot_y[0,:400],'o',markersize=2)"
   ]
  },
  {
   "cell_type": "code",
   "execution_count": null,
   "metadata": {
    "collapsed": true
   },
   "outputs": [],
   "source": [
    "from sklearn.cluster import KMeans"
   ]
  },
  {
   "cell_type": "code",
   "execution_count": null,
   "metadata": {
    "collapsed": true
   },
   "outputs": [],
   "source": [
    "kmeans = KMeans(n_clusters=10, init='random', n_init=10)\n",
    "kmeans_x = kmeans.fit_transform(total_output.numpy())\n",
    "kmeans_labels = kmeans.predict(total_output.numpy())"
   ]
  },
  {
   "cell_type": "code",
   "execution_count": null,
   "metadata": {
    "collapsed": false
   },
   "outputs": [],
   "source": [
    "kmeans.cluster_centers_"
   ]
  },
  {
   "cell_type": "code",
   "execution_count": null,
   "metadata": {
    "collapsed": false
   },
   "outputs": [],
   "source": [
    "for i in range(10): \n",
    "    plot_x = pca_x[np.where(kmeans_labels==i),0]\n",
    "    plot_y = pca_x[np.where(kmeans_labels==i),1]\n",
    "    \n",
    "    #全部プロットすると時間かかるので400個だけ\n",
    "    plt.plot(plot_x[0,:400], plot_y[0,:400],'o',markersize=2)\n",
    "    \n",
    "center = pca.fit_transform(kmeans.cluster_centers_)\n",
    "plt.plot(center[:,0], center[:,1],'bx',markersize=10)"
   ]
  },
  {
   "cell_type": "markdown",
   "metadata": {},
   "source": [
    "### 最後に並べて表示"
   ]
  },
  {
   "cell_type": "code",
   "execution_count": null,
   "metadata": {
    "collapsed": false
   },
   "outputs": [],
   "source": [
    "plt.figure(figsize=(12,5))\n",
    "plt.subplot(121)\n",
    "for i in range(10): \n",
    "    plot_x = pca_x[np.where(total_labels.numpy()==i),0]\n",
    "    plot_y = pca_x[np.where(total_labels.numpy()==i),1]\n",
    "    plt.plot(plot_x[0,:400], plot_y[0,:400],'o',markersize=2)\n",
    "plt.title(\"label_data\")\n",
    "\n",
    "plt.subplot(122)\n",
    "for i in range(10): \n",
    "    plot_x = pca_x[np.where(kmeans_labels==i),0]\n",
    "    plot_y = pca_x[np.where(kmeans_labels==i),1]\n",
    "    plt.plot(plot_x[0,:400], plot_y[0,:400],'o',markersize=2)\n",
    "    \n",
    "center = pca.fit_transform(kmeans.cluster_centers_)\n",
    "plt.plot(center[:,0], center[:,1],'bx',markersize=10)\n",
    "plt.title(\"kmeans\")"
   ]
  },
  {
   "cell_type": "code",
   "execution_count": null,
   "metadata": {
    "collapsed": true
   },
   "outputs": [],
   "source": []
  }
 ],
 "metadata": {
  "kernelspec": {
   "display_name": "Python 2",
   "language": "python",
   "name": "python2"
  },
  "language_info": {
   "codemirror_mode": {
    "name": "ipython",
    "version": 2
   },
   "file_extension": ".py",
   "mimetype": "text/x-python",
   "name": "python",
   "nbconvert_exporter": "python",
   "pygments_lexer": "ipython2",
   "version": "2.7.11"
  }
 },
 "nbformat": 4,
 "nbformat_minor": 2
}
