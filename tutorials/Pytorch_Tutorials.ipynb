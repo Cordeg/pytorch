{
 "cells": [
  {
   "cell_type": "markdown",
   "metadata": {},
   "source": [
    "# pytorchの基本演算"
   ]
  },
  {
   "cell_type": "markdown",
   "metadata": {},
   "source": [
    "pytorchはTensorという型で演算を行う。pytorchを利用するには全ての変数はTensorに変換する必要がある<br>\n",
    "テンソルはnumpyのような書き方が可能"
   ]
  },
  {
   "cell_type": "code",
   "execution_count": 1,
   "metadata": {
    "collapsed": true
   },
   "outputs": [],
   "source": [
    "from __future__ import print_function\n",
    "import torch"
   ]
  },
  {
   "cell_type": "code",
   "execution_count": 2,
   "metadata": {
    "collapsed": false
   },
   "outputs": [
    {
     "name": "stdout",
     "output_type": "stream",
     "text": [
      "\n",
      " 3.5805e-39  1.4013e-45  1.4587e-36\n",
      " 1.4013e-45  1.4588e-36  1.4013e-45\n",
      " 7.3806e-39  1.4013e-45  7.3806e-39\n",
      " 1.4013e-45  7.3807e-39  1.4013e-45\n",
      " 7.3840e-39  1.4013e-45  5.5049e-37\n",
      "[torch.FloatTensor of size 5x3]\n",
      "\n"
     ]
    }
   ],
   "source": [
    "#torchのTensor定義\n",
    "#初期化されていないので完全に0にはならない\n",
    "x = torch.Tensor(5, 3)\n",
    "print(x)"
   ]
  },
  {
   "cell_type": "code",
   "execution_count": 3,
   "metadata": {
    "collapsed": false
   },
   "outputs": [
    {
     "name": "stdout",
     "output_type": "stream",
     "text": [
      "\n",
      " 0.0276  0.9555  0.3755\n",
      " 0.0343  0.2881  0.0430\n",
      " 0.5422  0.1671  0.7017\n",
      " 0.3169  0.7044  0.3255\n",
      " 0.2512  0.7634  0.2316\n",
      "[torch.FloatTensor of size 5x3]\n",
      "\n"
     ]
    }
   ],
   "source": [
    "#乱数で初期化したTensor\n",
    "x = torch.rand(5, 3)\n",
    "print(x)"
   ]
  },
  {
   "cell_type": "code",
   "execution_count": 4,
   "metadata": {
    "collapsed": false
   },
   "outputs": [
    {
     "name": "stdout",
     "output_type": "stream",
     "text": [
      "torch.Size([5, 3])\n"
     ]
    }
   ],
   "source": [
    "#Tensorのサイズの出力\n",
    "print(x.size())"
   ]
  },
  {
   "cell_type": "code",
   "execution_count": 5,
   "metadata": {
    "collapsed": false
   },
   "outputs": [
    {
     "name": "stdout",
     "output_type": "stream",
     "text": [
      "\n",
      " 0.2646  1.0537  1.3565\n",
      " 0.6482  0.6579  0.2776\n",
      " 1.3476  0.7363  0.7927\n",
      " 0.7810  1.4644  0.5566\n",
      " 1.0113  0.9607  0.9306\n",
      "[torch.FloatTensor of size 5x3]\n",
      "\n"
     ]
    }
   ],
   "source": [
    "#足し算可能\n",
    "y = torch.rand(5, 3)\n",
    "print(x + y)"
   ]
  },
  {
   "cell_type": "code",
   "execution_count": 6,
   "metadata": {
    "collapsed": false
   },
   "outputs": [
    {
     "name": "stdout",
     "output_type": "stream",
     "text": [
      "\n",
      " 0.2646  1.0537  1.3565\n",
      " 0.6482  0.6579  0.2776\n",
      " 1.3476  0.7363  0.7927\n",
      " 0.7810  1.4644  0.5566\n",
      " 1.0113  0.9607  0.9306\n",
      "[torch.FloatTensor of size 5x3]\n",
      "\n"
     ]
    }
   ],
   "source": [
    "#足し算のやり方その2\n",
    "result = torch.Tensor(5, 3)\n",
    "torch.add(x, y, out=result)\n",
    "print(result)"
   ]
  },
  {
   "cell_type": "code",
   "execution_count": 7,
   "metadata": {
    "collapsed": false
   },
   "outputs": [
    {
     "name": "stdout",
     "output_type": "stream",
     "text": [
      "\n",
      " 0.2646  1.0537  1.3565\n",
      " 0.6482  0.6579  0.2776\n",
      " 1.3476  0.7363  0.7927\n",
      " 0.7810  1.4644  0.5566\n",
      " 1.0113  0.9607  0.9306\n",
      "[torch.FloatTensor of size 5x3]\n",
      "\n"
     ]
    }
   ],
   "source": [
    "#足し算のやり方その3：破壊的な足し算のメソッド\n",
    "y.add_(x)\n",
    "print(y)"
   ]
  },
  {
   "cell_type": "code",
   "execution_count": 8,
   "metadata": {
    "collapsed": false
   },
   "outputs": [
    {
     "name": "stdout",
     "output_type": "stream",
     "text": [
      "\n",
      " 0.9555\n",
      " 0.2881\n",
      " 0.1671\n",
      " 0.7044\n",
      " 0.7634\n",
      "[torch.FloatTensor of size 5]\n",
      "\n"
     ]
    }
   ],
   "source": [
    "#numpyのように特定行・列だけスライスして取り出すことも可能\n",
    "print(x[:, 1])"
   ]
  },
  {
   "cell_type": "code",
   "execution_count": 9,
   "metadata": {
    "collapsed": false
   },
   "outputs": [
    {
     "name": "stdout",
     "output_type": "stream",
     "text": [
      "\n",
      " 1\n",
      " 1\n",
      " 1\n",
      " 1\n",
      " 1\n",
      "[torch.FloatTensor of size 5]\n",
      "\n"
     ]
    }
   ],
   "source": [
    "#numpy.onesのようなtorchの関数\n",
    "a = torch.ones(5)\n",
    "print(a)"
   ]
  },
  {
   "cell_type": "code",
   "execution_count": 10,
   "metadata": {
    "collapsed": false
   },
   "outputs": [
    {
     "name": "stdout",
     "output_type": "stream",
     "text": [
      "[ 1.  1.  1.  1.  1.]\n"
     ]
    }
   ],
   "source": [
    "#Tensor -> numpy変換\n",
    "b = a.numpy()\n",
    "print(b)"
   ]
  },
  {
   "cell_type": "code",
   "execution_count": 11,
   "metadata": {
    "collapsed": false
   },
   "outputs": [
    {
     "name": "stdout",
     "output_type": "stream",
     "text": [
      "\n",
      " 2\n",
      " 2\n",
      " 2\n",
      " 2\n",
      " 2\n",
      "[torch.FloatTensor of size 5]\n",
      "\n",
      "[ 2.  2.  2.  2.  2.]\n"
     ]
    }
   ],
   "source": [
    "#add_の場合、参照先にも影響を与える\n",
    "a.add_(1)\n",
    "print(a)\n",
    "print(b)"
   ]
  },
  {
   "cell_type": "code",
   "execution_count": 12,
   "metadata": {
    "collapsed": false
   },
   "outputs": [
    {
     "name": "stdout",
     "output_type": "stream",
     "text": [
      "\n",
      " 3\n",
      " 3\n",
      " 3\n",
      " 3\n",
      " 3\n",
      "[torch.FloatTensor of size 5]\n",
      "\n",
      "[ 2.  2.  2.  2.  2.]\n"
     ]
    }
   ],
   "source": [
    "#普通の演算は問題ない\n",
    "a=a+1\n",
    "print(a)\n",
    "print(b)"
   ]
  },
  {
   "cell_type": "code",
   "execution_count": 13,
   "metadata": {
    "collapsed": false
   },
   "outputs": [
    {
     "name": "stdout",
     "output_type": "stream",
     "text": [
      "[ 2.  2.  2.  2.  2.]\n",
      "\n",
      " 2\n",
      " 2\n",
      " 2\n",
      " 2\n",
      " 2\n",
      "[torch.DoubleTensor of size 5]\n",
      "\n"
     ]
    }
   ],
   "source": [
    "#numpy -> Tensor\n",
    "\n",
    "import numpy as np\n",
    "a = np.ones(5)\n",
    "b = torch.from_numpy(a)\n",
    "np.add(a, 1, out=a)\n",
    "print(a)\n",
    "print(b)"
   ]
  },
  {
   "cell_type": "markdown",
   "metadata": {},
   "source": [
    "# pytorchの自動微分機能"
   ]
  },
  {
   "cell_type": "markdown",
   "metadata": {},
   "source": [
    "pytorchはautogradというTensorを自動微分機能を備えている<br>\n",
    "この機能はdefined-by-run形式で、要するにどのようにコードが走ったかで微分方向が変わる<br>\n",
    "そのため、ループごとに構造を変えるなどの柔軟な記述もできる"
   ]
  },
  {
   "cell_type": "code",
   "execution_count": 14,
   "metadata": {
    "collapsed": true
   },
   "outputs": [],
   "source": [
    "import torch\n",
    "from torch.autograd import Variable #自動微分機能のimport"
   ]
  },
  {
   "cell_type": "markdown",
   "metadata": {},
   "source": [
    "Variable変数はTensorのラッパー<br>\n",
    "最後に.backward()を呼ぶと、それまでの経路を遡って自動微分してくれる"
   ]
  },
  {
   "cell_type": "code",
   "execution_count": 15,
   "metadata": {
    "collapsed": false
   },
   "outputs": [
    {
     "name": "stdout",
     "output_type": "stream",
     "text": [
      "Variable containing:\n",
      " 1  1\n",
      " 1  1\n",
      "[torch.FloatTensor of size 2x2]\n",
      "\n"
     ]
    }
   ],
   "source": [
    "#requires_gradで微分を行うかどうかを明示する\n",
    "x = Variable(torch.ones(2, 2), requires_grad=True)\n",
    "print(x)"
   ]
  },
  {
   "cell_type": "code",
   "execution_count": 16,
   "metadata": {
    "collapsed": false
   },
   "outputs": [
    {
     "name": "stdout",
     "output_type": "stream",
     "text": [
      "Variable containing:\n",
      " 3  3\n",
      " 3  3\n",
      "[torch.FloatTensor of size 2x2]\n",
      "\n"
     ]
    }
   ],
   "source": [
    "#VariableはTensorのラッパーなので通常の演算も可能\n",
    "y = x + 2\n",
    "print(y)"
   ]
  },
  {
   "cell_type": "code",
   "execution_count": 17,
   "metadata": {
    "collapsed": false
   },
   "outputs": [
    {
     "name": "stdout",
     "output_type": "stream",
     "text": [
      "<torch.autograd._functions.basic_ops.AddConstant object at 0x1067056a8>\n"
     ]
    }
   ],
   "source": [
    "#呼び出される関数を確認できる\n",
    "#後のDNNでのNetwork作成時に再度説明する\n",
    "print(y.creator)"
   ]
  },
  {
   "cell_type": "code",
   "execution_count": 18,
   "metadata": {
    "collapsed": false
   },
   "outputs": [
    {
     "name": "stdout",
     "output_type": "stream",
     "text": [
      "Variable containing:\n",
      " 27  27\n",
      " 27  27\n",
      "[torch.FloatTensor of size 2x2]\n",
      " Variable containing:\n",
      " 27\n",
      "[torch.FloatTensor of size 1]\n",
      "\n"
     ]
    }
   ],
   "source": [
    "#掛け算もできるし平均もできる\n",
    "z = y * y * 3\n",
    "out = z.mean()\n",
    "\n",
    "print(z, out)"
   ]
  },
  {
   "cell_type": "code",
   "execution_count": 19,
   "metadata": {
    "collapsed": true
   },
   "outputs": [],
   "source": [
    "#自動微分する\n",
    "out.backward()"
   ]
  },
  {
   "cell_type": "code",
   "execution_count": 20,
   "metadata": {
    "collapsed": false
   },
   "outputs": [
    {
     "name": "stdout",
     "output_type": "stream",
     "text": [
      "Variable containing:\n",
      " 4.5000  4.5000\n",
      " 4.5000  4.5000\n",
      "[torch.FloatTensor of size 2x2]\n",
      "\n"
     ]
    }
   ],
   "source": [
    "#d(out)/dxを出力する\n",
    "print(x.grad)"
   ]
  },
  {
   "cell_type": "markdown",
   "metadata": {},
   "source": [
    "さて、ここで行われた計算についてもう少し詳しく説明する<br>\n",
    "そもそもout(=oと略記)がどのように計算されたかというと<br>\n",
    "$o = \\frac{1}{4}\\sum_iz_i$ <br>\n",
    "$z_i = y_i \\cdot y_i \\cdot 3 = 3 \\cdot (x_i + 2)^2$"
   ]
  },
  {
   "cell_type": "markdown",
   "metadata": {},
   "source": [
    "よって、<br>\n",
    "$\\frac{\\partial o}{\\partial x_i} = \\frac{1}{4} \\cdot 3 \\cdot 2 \\cdot (x_i + 2) = 4.5$<br>\n",
    "これが各成分となる"
   ]
  },
  {
   "cell_type": "markdown",
   "metadata": {},
   "source": [
    "pytorchのこの自動微分機能は様々なことができる"
   ]
  },
  {
   "cell_type": "code",
   "execution_count": 58,
   "metadata": {
    "collapsed": false
   },
   "outputs": [
    {
     "name": "stdout",
     "output_type": "stream",
     "text": [
      "Variable containing:\n",
      " -766.0985\n",
      " 1223.3398\n",
      "   31.8218\n",
      "[torch.FloatTensor of size 3]\n",
      "\n"
     ]
    }
   ],
   "source": [
    "x = torch.randn(3)\n",
    "x = Variable(x, requires_grad=True)\n",
    "\n",
    "y = x * 2\n",
    "while y.data.norm() < 1000:\n",
    "    y = y * 2\n",
    "\n",
    "print(y)"
   ]
  },
  {
   "cell_type": "code",
   "execution_count": 59,
   "metadata": {
    "collapsed": false
   },
   "outputs": [
    {
     "name": "stdout",
     "output_type": "stream",
     "text": [
      "Variable containing:\n",
      "  102.4000\n",
      " 1024.0000\n",
      "    0.1024\n",
      "[torch.FloatTensor of size 3]\n",
      "\n"
     ]
    }
   ],
   "source": [
    "gradients = torch.FloatTensor([0.1, 1.0, 0.0001])\n",
    "y.backward(gradients)\n",
    "\n",
    "print(x.grad)"
   ]
  },
  {
   "cell_type": "markdown",
   "metadata": {},
   "source": [
    "# pytorchによるDNN入門"
   ]
  },
  {
   "cell_type": "code",
   "execution_count": 60,
   "metadata": {
    "collapsed": true
   },
   "outputs": [],
   "source": [
    "import torch\n",
    "from torch.autograd import Variable\n",
    "import torch.nn as nn\n",
    "import torch.nn.functional as F"
   ]
  },
  {
   "cell_type": "code",
   "execution_count": 61,
   "metadata": {
    "collapsed": false
   },
   "outputs": [
    {
     "name": "stdout",
     "output_type": "stream",
     "text": [
      "Net (\n",
      "  (conv1): Conv2d(1, 6, kernel_size=(5, 5), stride=(1, 1))\n",
      "  (conv2): Conv2d(6, 16, kernel_size=(5, 5), stride=(1, 1))\n",
      "  (fc1): Linear (400 -> 120)\n",
      "  (fc2): Linear (120 -> 84)\n",
      "  (fc3): Linear (84 -> 10)\n",
      ")\n"
     ]
    }
   ],
   "source": [
    "#networkの定義\n",
    "#DNNの構造とrunの方法を定義する\n",
    "class Net(nn.Module):\n",
    "\n",
    "    def __init__(self):\n",
    "        super(Net, self).__init__()\n",
    "        \n",
    "        # 1つの入力チャネル、6個の出力チャネル、5 * 5の畳み込み\n",
    "        # 1 input image channel, 6 output channels, 5x5 square convolution\n",
    "        self.conv1 = nn.Conv2d(1, 6, 5)\n",
    "        self.conv2 = nn.Conv2d(6, 16, 5)\n",
    "        \n",
    "        # 線形演算\n",
    "        # an affine operation: y = Wx + b\n",
    "        self.fc1 = nn.Linear(16 * 5 * 5, 120)\n",
    "        self.fc2 = nn.Linear(120, 84)\n",
    "        self.fc3 = nn.Linear(84, 10)\n",
    "\n",
    "    def forward(self, x):\n",
    "        \n",
    "        # 2 * 2の窓で max pooling\n",
    "        # Max pooling over a (2, 2) window\n",
    "        x = F.max_pool2d(F.relu(self.conv1(x)), (2, 2))\n",
    "        \n",
    "        \n",
    "        # If the size is a square you can only specify a single number\n",
    "        x = F.max_pool2d(F.relu(self.conv2(x)), 2)\n",
    "        \n",
    "        #型変換(reshape)\n",
    "        x = x.view(-1, self.num_flat_features(x))\n",
    "        x = F.relu(self.fc1(x))\n",
    "        x = F.relu(self.fc2(x))\n",
    "        x = self.fc3(x)\n",
    "        return x\n",
    "\n",
    "    def num_flat_features(self, x):\n",
    "        \n",
    "        #バッチの次元以外を平らにする\n",
    "        size = x.size()[1:]  # all dimensions except the batch dimension\n",
    "        num_features = 1\n",
    "        for s in size:\n",
    "            num_features *= s\n",
    "        return num_features\n",
    "\n",
    "#network定義\n",
    "net = Net()\n",
    "\n",
    "#networkの出力\n",
    "print(net)"
   ]
  },
  {
   "cell_type": "markdown",
   "metadata": {},
   "source": [
    "networkの定義は構造部分init部分とforward部分のみで良い<br>\n",
    "backword部分はautogradが実行する"
   ]
  },
  {
   "cell_type": "markdown",
   "metadata": {},
   "source": [
    "net.parameters()により学習するパラメータを確認できる"
   ]
  },
  {
   "cell_type": "code",
   "execution_count": 62,
   "metadata": {
    "collapsed": false
   },
   "outputs": [
    {
     "name": "stdout",
     "output_type": "stream",
     "text": [
      "10\n",
      "torch.Size([6, 1, 5, 5])\n"
     ]
    }
   ],
   "source": [
    "#層の重みなどのチェック\n",
    "params = list(net.parameters())\n",
    "print(len(params))\n",
    "print(params[0].size())  # conv1's .weight"
   ]
  },
  {
   "cell_type": "code",
   "execution_count": 63,
   "metadata": {
    "collapsed": false
   },
   "outputs": [
    {
     "name": "stdout",
     "output_type": "stream",
     "text": [
      "Variable containing:\n",
      "-0.0329  0.0172 -0.0831 -0.1100 -0.0428 -0.0600  0.1179 -0.0554 -0.0879 -0.0300\n",
      "[torch.FloatTensor of size 1x10]\n",
      "\n"
     ]
    }
   ],
   "source": [
    "#Variableをinputとして入れればoutputはnetworkのforwardを経たものとなる\n",
    "input = Variable(torch.randn(1, 1, 32, 32))\n",
    "out = net(input)\n",
    "print(out)"
   ]
  },
  {
   "cell_type": "code",
   "execution_count": 64,
   "metadata": {
    "collapsed": true
   },
   "outputs": [],
   "source": [
    "#勾配を初期化\n",
    "net.zero_grad()\n",
    "\n",
    "#ランダムな勾配でback-propagation\n",
    "out.backward(torch.randn(1, 10))"
   ]
  },
  {
   "cell_type": "markdown",
   "metadata": {},
   "source": [
    "ここで気をつけなければならないのが、<u>touch.nnはミニバッチのみをサポートしている</u>。<br>\n",
    "そのため、ミニバッチの形でデータを渡さなければならない"
   ]
  },
  {
   "cell_type": "markdown",
   "metadata": {},
   "source": [
    "例えば、nn.Conv2dは4次元のTensorでないといけない(nSamples x nChannels x Height x Width)<br>\n",
    "つまり、チャネル・幅・高さに加えて配列の最初にミニバッチのサイズを定義しないといけない"
   ]
  },
  {
   "cell_type": "markdown",
   "metadata": {},
   "source": [
    "ミニバッチを利用しない場合はinput.unsqueeze(0)というダミーのバッチサイズを用いる必要がある"
   ]
  },
  {
   "cell_type": "markdown",
   "metadata": {},
   "source": [
    "## Loss関数の定義"
   ]
  },
  {
   "cell_type": "code",
   "execution_count": 65,
   "metadata": {
    "collapsed": false
   },
   "outputs": [
    {
     "name": "stdout",
     "output_type": "stream",
     "text": [
      "Variable containing:\n",
      " 38.8994\n",
      "[torch.FloatTensor of size 1]\n",
      "\n"
     ]
    },
    {
     "name": "stderr",
     "output_type": "stream",
     "text": [
      "/Users/sho/.pyenv/versions/anaconda-2.4.0/lib/python2.7/site-packages/ipykernel/__main__.py:5: UserWarning: torch.range is deprecated in favor of torch.arange and will be removed in 0.3. Note that arange generates values in [start; end), not [start; end].\n"
     ]
    }
   ],
   "source": [
    "#input->net->output\n",
    "output = net(input)\n",
    "\n",
    "#ラベル情報\n",
    "target = Variable(torch.range(1, 10))  # a dummy target, for example\n",
    "\n",
    "#loss関数の定義\n",
    "criterion = nn.MSELoss()\n",
    "\n",
    "#どの部分でlossの比較をするか\n",
    "loss = criterion(output, target)\n",
    "print(loss)"
   ]
  },
  {
   "cell_type": "markdown",
   "metadata": {},
   "source": [
    "構造の確認には.creatorを用いると良い"
   ]
  },
  {
   "cell_type": "code",
   "execution_count": 15,
   "metadata": {
    "collapsed": false
   },
   "outputs": [
    {
     "name": "stdout",
     "output_type": "stream",
     "text": [
      "<torch.nn._functions.thnn.auto.MSELoss object at 0x1089d5050>\n",
      "<torch.nn._functions.linear.Linear object at 0x1089d1ed0>\n",
      "<torch.nn._functions.thnn.auto.Threshold object at 0x1089d1de8>\n"
     ]
    }
   ],
   "source": [
    "#creatorで呼ばれる関数を確認できる\n",
    "#previous_functionsで前に呼ばれた関数を確認できる\n",
    "print(loss.creator)  # MSELoss\n",
    "print(loss.creator.previous_functions[0][0])  # Linear\n",
    "print(loss.creator.previous_functions[0][0].previous_functions[0][0])  # ReLU"
   ]
  },
  {
   "cell_type": "markdown",
   "metadata": {},
   "source": [
    "## Backpropagation"
   ]
  },
  {
   "cell_type": "code",
   "execution_count": 16,
   "metadata": {
    "collapsed": false
   },
   "outputs": [
    {
     "name": "stdout",
     "output_type": "stream",
     "text": [
      "conv1.bias.grad before backward\n",
      "Variable containing:\n",
      " 0\n",
      " 0\n",
      " 0\n",
      " 0\n",
      " 0\n",
      " 0\n",
      "[torch.FloatTensor of size 6]\n",
      "\n",
      "conv1.bias.grad after backward\n",
      "Variable containing:\n",
      "1.00000e-02 *\n",
      " -4.3110\n",
      "  0.1598\n",
      " -7.6817\n",
      "  3.3060\n",
      " -1.7389\n",
      "  7.2055\n",
      "[torch.FloatTensor of size 6]\n",
      "\n"
     ]
    }
   ],
   "source": [
    "#勾配を初期化\n",
    "net.zero_grad()     # zeroes the gradient buffers of all parameters\n",
    "\n",
    "#back propagation前\n",
    "print('conv1.bias.grad before backward')\n",
    "print(net.conv1.bias.grad) #conv1層のbiasの勾配\n",
    "\n",
    "#lossに基づくback propagation\n",
    "loss.backward()\n",
    "\n",
    "#back propagation後\n",
    "print('conv1.bias.grad after backward')\n",
    "print(net.conv1.bias.grad)"
   ]
  },
  {
   "cell_type": "markdown",
   "metadata": {},
   "source": [
    "nnモジュールのリストは<a href=　\"http://pytorch.org/docs/nn\">下記</a>"
   ]
  },
  {
   "cell_type": "markdown",
   "metadata": {},
   "source": [
    "## 重み更新"
   ]
  },
  {
   "cell_type": "markdown",
   "metadata": {},
   "source": [
    "重み更新は自分で書くこともできる\n",
    "\n",
    "weight = weight - learning_rate * gradient<br>\n",
    "のようなSGDの更新を行いたい場合のコードは下のようになる"
   ]
  },
  {
   "cell_type": "code",
   "execution_count": 17,
   "metadata": {
    "collapsed": true
   },
   "outputs": [],
   "source": [
    "learning_rate = 0.01\n",
    "for f in net.parameters():\n",
    "    f.data.sub_(f.grad.data * learning_rate)"
   ]
  },
  {
   "cell_type": "markdown",
   "metadata": {},
   "source": [
    "optimにはpytorchの最適化関数のパッケージが格納されている<br>\n",
    "だいたいはこちらを使った方が便利"
   ]
  },
  {
   "cell_type": "code",
   "execution_count": 18,
   "metadata": {
    "collapsed": false
   },
   "outputs": [],
   "source": [
    "import torch.optim as optim\n",
    "\n",
    "# create your optimizer\n",
    "optimizer = optim.SGD(net.parameters(), lr=0.01,momentum=0.9)\n",
    "\n",
    "# in your training loop:\n",
    "optimizer.zero_grad()   # zero the gradient buffers\n",
    "output = net(input)\n",
    "loss = criterion(output, target)\n",
    "loss.backward()\n",
    "optimizer.step()    # Does the update"
   ]
  },
  {
   "cell_type": "markdown",
   "metadata": {},
   "source": [
    "# pytorchを使った画像分類入門"
   ]
  },
  {
   "cell_type": "markdown",
   "metadata": {},
   "source": [
    "torchvision を用いて CIFAR-10のデータセットをロード＆Normalizationする<br>\n",
    "CNN, lossを定義してtraiing, testを行う"
   ]
  },
  {
   "cell_type": "code",
   "execution_count": 19,
   "metadata": {
    "collapsed": true
   },
   "outputs": [],
   "source": [
    "import torch\n",
    "import torchvision\n",
    "import torchvision.transforms as transforms"
   ]
  },
  {
   "cell_type": "markdown",
   "metadata": {},
   "source": [
    "transforms.Normalize(mean,std)はchannel = (channel - mean) / stdの変換を行う<br>\n",
    "torchvisionのPILImageは0~1の間になっているので、-1~1に変換する必要がある<br>\n",
    "そのため、mean=std=0.5とする"
   ]
  },
  {
   "cell_type": "code",
   "execution_count": 20,
   "metadata": {
    "collapsed": false
   },
   "outputs": [
    {
     "name": "stdout",
     "output_type": "stream",
     "text": [
      "Files already downloaded and verified\n",
      "Files already downloaded and verified\n",
      "Files already downloaded and verified\n"
     ]
    }
   ],
   "source": [
    "#transform: PIL Image変形用のモジュール\n",
    "#Tensorに変形して, RGBを平均0.5,分散0.5に標準化\n",
    "transform = transforms.Compose(\n",
    "    [transforms.ToTensor(),\n",
    "     transforms.Normalize((0.5, 0.5, 0.5), (0.5, 0.5, 0.5))])\n",
    "\n",
    "#CIFAR-10のTensorに変形前のtrainsetのロード\n",
    "rawtrainset = torchvision.datasets.CIFAR10(root='./data', train=True,\n",
    "                                        download=True)\n",
    "\n",
    "#CIFAR-10のtrain, testsetのロード\n",
    "#変形はtransformを適用\n",
    "trainset = torchvision.datasets.CIFAR10(root='./data', train=True,\n",
    "                                        download=True, transform=transform)\n",
    "testset = torchvision.datasets.CIFAR10(root='./data', train=False,\n",
    "                                       download=True, transform=transform)\n",
    "\n",
    "#DataLoaderの適用->これによりバッチの割り当て・シャッフルをまとめて行うことができる\n",
    "#batch_sizeでバッチサイズを指定\n",
    "#num_workersでいくつのコアでデータをロードするか指定(デフォルトはメインのみ)\n",
    "trainloader = torch.utils.data.DataLoader(trainset, batch_size=4,\n",
    "                                          shuffle=True, num_workers=2)\n",
    "testloader = torch.utils.data.DataLoader(testset, batch_size=4,\n",
    "                                         shuffle=False, num_workers=2)\n",
    "\n",
    "#ラベルとクラスの対応\n",
    "classes = ('plane', 'car', 'bird', 'cat',\n",
    "           'deer', 'dog', 'frog', 'horse', 'ship', 'truck')"
   ]
  },
  {
   "cell_type": "code",
   "execution_count": 36,
   "metadata": {
    "collapsed": false
   },
   "outputs": [
    {
     "name": "stdout",
     "output_type": "stream",
     "text": [
      "data\n",
      "<torchvision.datasets.cifar.CIFAR10 object at 0x109384910>\n",
      "\n",
      "image\n",
      "(<PIL.Image.Image image mode=RGB size=32x32 at 0x119675D90>, 6)\n",
      "\n",
      "label\n",
      "6\n",
      "\n"
     ]
    }
   ],
   "source": [
    "#loadしたCIFAR-10のオブジェクトの生データのチェック\n",
    "print(\"data\")\n",
    "print(rawtrainset)\n",
    "print\n",
    "\n",
    "#CIFAR-10の1個目の画像とラベルのセット\n",
    "print(\"image\")\n",
    "print(rawtrainset[0])\n",
    "print\n",
    "\n",
    "#CIFAR-10の1個目のラベル\n",
    "print(\"label\")\n",
    "print(trainset[0][-1])\n",
    "print"
   ]
  },
  {
   "cell_type": "code",
   "execution_count": 37,
   "metadata": {
    "collapsed": false
   },
   "outputs": [
    {
     "name": "stdout",
     "output_type": "stream",
     "text": [
      "data\n",
      "<torchvision.datasets.cifar.CIFAR10 object at 0x109384a10>\n",
      "\n",
      "image\n",
      "(\n",
      "(0 ,.,.) = \n",
      " -0.5373 -0.6627 -0.6078  ...   0.2392  0.1922  0.1608\n",
      " -0.8745 -1.0000 -0.8588  ...  -0.0353 -0.0667 -0.0431\n",
      " -0.8039 -0.8745 -0.6157  ...  -0.0745 -0.0588 -0.1451\n",
      "           ...             ⋱             ...          \n",
      "  0.6314  0.5765  0.5529  ...   0.2549 -0.5608 -0.5843\n",
      "  0.4118  0.3569  0.4588  ...   0.4431 -0.2392 -0.3490\n",
      "  0.3882  0.3176  0.4039  ...   0.6941  0.1843 -0.0353\n",
      "\n",
      "(1 ,.,.) = \n",
      " -0.5137 -0.6392 -0.6235  ...   0.0353 -0.0196 -0.0275\n",
      " -0.8431 -1.0000 -0.9373  ...  -0.3098 -0.3490 -0.3176\n",
      " -0.8118 -0.9451 -0.7882  ...  -0.3412 -0.3412 -0.4275\n",
      "           ...             ⋱             ...          \n",
      "  0.3333  0.2000  0.2627  ...   0.0431 -0.7569 -0.7333\n",
      "  0.0902 -0.0353  0.1294  ...   0.1608 -0.5137 -0.5843\n",
      "  0.1294  0.0118  0.1137  ...   0.4431 -0.0745 -0.2784\n",
      "\n",
      "(2 ,.,.) = \n",
      " -0.5059 -0.6471 -0.6627  ...  -0.1529 -0.2000 -0.1922\n",
      " -0.8431 -1.0000 -1.0000  ...  -0.5686 -0.6078 -0.5529\n",
      " -0.8353 -1.0000 -0.9373  ...  -0.6078 -0.6078 -0.6706\n",
      "           ...             ⋱             ...          \n",
      " -0.2471 -0.7333 -0.7961  ...  -0.4510 -0.9451 -0.8431\n",
      " -0.2471 -0.6706 -0.7647  ...  -0.2627 -0.7333 -0.7333\n",
      " -0.0902 -0.2627 -0.3176  ...   0.0980 -0.3412 -0.4353\n",
      "[torch.FloatTensor of size 3x32x32]\n",
      ", 6)\n",
      "\n",
      "label\n",
      "6\n"
     ]
    }
   ],
   "source": [
    "#loadしたCIFAR-10の変形後のオブジェクトのチェック\n",
    "print(\"data\")\n",
    "print(trainset)\n",
    "print\n",
    "\n",
    "#CIFAR-10の1個目の画像とラベルのセット\n",
    "print(\"image\")\n",
    "print(trainset[0])\n",
    "print\n",
    "\n",
    "#CIFAR-10の1個目のラベル\n",
    "print(\"label\")\n",
    "print(trainset[0][-1])"
   ]
  },
  {
   "cell_type": "markdown",
   "metadata": {},
   "source": [
    "たしかにtransformでTensor化・標準化されている<br>\n",
    "DataLoaderへの渡し方は(Tensor(traindata), Tensor(label))の形で渡せば良い"
   ]
  },
  {
   "cell_type": "code",
   "execution_count": 23,
   "metadata": {
    "collapsed": false
   },
   "outputs": [
    {
     "data": {
      "text/plain": [
       "[\n",
       " (0 ,0 ,.,.) = \n",
       "  -0.6471 -0.6549 -0.6627  ...  -0.3569 -0.5765 -0.7569\n",
       "  -0.6549 -0.6706 -0.6784  ...  -0.5608 -0.6314 -0.7412\n",
       "  -0.6706 -0.6863 -0.6863  ...  -0.3961 -0.6471 -0.7961\n",
       "            ...             ⋱             ...          \n",
       "  -0.5922 -0.6314 -0.4353  ...  -0.7020 -0.7255 -0.7176\n",
       "  -0.5059 -0.3961 -0.4039  ...  -0.8588 -0.8431 -0.8431\n",
       "  -0.4275 -0.4118 -0.4275  ...  -0.8431 -0.8510 -0.8353\n",
       " \n",
       " (0 ,1 ,.,.) = \n",
       "  -0.5922 -0.6000 -0.6078  ...  -0.3647 -0.5686 -0.7490\n",
       "  -0.5922 -0.5922 -0.5922  ...  -0.5529 -0.6157 -0.7255\n",
       "  -0.6235 -0.6078 -0.5922  ...  -0.3804 -0.6235 -0.7804\n",
       "            ...             ⋱             ...          \n",
       "  -0.5529 -0.6078 -0.3569  ...  -0.6392 -0.6784 -0.6863\n",
       "  -0.4431 -0.3098 -0.2706  ...  -0.8510 -0.8510 -0.8510\n",
       "  -0.3176 -0.2706 -0.2706  ...  -0.8510 -0.8431 -0.8353\n",
       " \n",
       " (0 ,2 ,.,.) = \n",
       "  -0.7176 -0.7255 -0.7412  ...  -0.3804 -0.6157 -0.7804\n",
       "  -0.7490 -0.7490 -0.7490  ...  -0.5529 -0.6078 -0.7490\n",
       "  -0.7490 -0.7412 -0.7333  ...  -0.3569 -0.6392 -0.8275\n",
       "            ...             ⋱             ...          \n",
       "  -0.6471 -0.7176 -0.6863  ...  -0.8039 -0.8431 -0.8196\n",
       "  -0.6314 -0.6078 -0.6471  ...  -0.8980 -0.8902 -0.8824\n",
       "  -0.5686 -0.5843 -0.5922  ...  -0.8824 -0.8902 -0.8824\n",
       "      ⋮ \n",
       " \n",
       " (1 ,0 ,.,.) = \n",
       "  -0.6000 -0.4902 -0.4275  ...  -0.7176 -0.5843 -0.4745\n",
       "  -0.6000 -0.4824 -0.3882  ...  -0.3412 -0.3490 -0.4196\n",
       "  -0.6549 -0.4824 -0.3725  ...  -0.1765 -0.3333 -0.4510\n",
       "            ...             ⋱             ...          \n",
       "  -0.1294 -0.1529 -0.0980  ...  -0.0510 -0.1765 -0.3255\n",
       "  -0.1059 -0.1294 -0.1216  ...   0.0275 -0.0510 -0.2078\n",
       "  -0.0824 -0.1529 -0.0980  ...  -0.0588 -0.0039 -0.1765\n",
       " \n",
       " (1 ,1 ,.,.) = \n",
       "  -0.5686 -0.4510 -0.4353  ...  -0.6549 -0.5294 -0.4353\n",
       "  -0.5529 -0.4039 -0.3961  ...  -0.3569 -0.3490 -0.3961\n",
       "  -0.6078 -0.4275 -0.3647  ...  -0.2078 -0.3647 -0.4196\n",
       "            ...             ⋱             ...          \n",
       "  -0.0275 -0.0588 -0.0039  ...  -0.0353 -0.1216 -0.2157\n",
       "  -0.0039 -0.0118 -0.0039  ...   0.0353 -0.0118 -0.1373\n",
       "   0.0039 -0.0431 -0.0196  ...   0.0196  0.0353 -0.0745\n",
       " \n",
       " (1 ,2 ,.,.) = \n",
       "  -0.8353 -0.7412 -0.7255  ...  -0.8275 -0.7725 -0.6941\n",
       "  -0.8118 -0.7725 -0.7098  ...  -0.6941 -0.6784 -0.7412\n",
       "  -0.8353 -0.7725 -0.7098  ...  -0.6314 -0.6627 -0.7333\n",
       "            ...             ⋱             ...          \n",
       "  -0.4667 -0.4980 -0.4745  ...  -0.4118 -0.4745 -0.5608\n",
       "  -0.4745 -0.4980 -0.5059  ...  -0.3176 -0.3647 -0.4824\n",
       "  -0.4667 -0.5216 -0.4745  ...  -0.4196 -0.2941 -0.5059\n",
       "      ⋮ \n",
       " \n",
       " (2 ,0 ,.,.) = \n",
       "  -0.3098 -0.2706 -0.2863  ...  -0.4902 -0.4510 -0.4118\n",
       "  -0.2314 -0.2000 -0.2941  ...  -0.4588 -0.4196 -0.4196\n",
       "  -0.1765 -0.2471 -0.3020  ...  -0.4667 -0.4667 -0.4824\n",
       "            ...             ⋱             ...          \n",
       "  -0.4745 -0.4745 -0.3647  ...  -0.6157 -0.6157 -0.6314\n",
       "  -0.4824 -0.3725 -0.2784  ...  -0.6235 -0.6235 -0.6314\n",
       "  -0.4902 -0.4039 -0.3804  ...  -0.6314 -0.6314 -0.6392\n",
       " \n",
       " (2 ,1 ,.,.) = \n",
       "  -0.0902 -0.0824 -0.1059  ...  -0.3490 -0.3098 -0.2706\n",
       "  -0.0275 -0.0118 -0.1137  ...  -0.3176 -0.2784 -0.2784\n",
       "   0.0275 -0.0510 -0.1216  ...  -0.3255 -0.3255 -0.3412\n",
       "            ...             ⋱             ...          \n",
       "  -0.3490 -0.3490 -0.2392  ...  -0.5216 -0.5216 -0.5373\n",
       "  -0.3569 -0.2471 -0.1529  ...  -0.5294 -0.5294 -0.5373\n",
       "  -0.3647 -0.2863 -0.2627  ...  -0.5373 -0.5373 -0.5373\n",
       " \n",
       " (2 ,2 ,.,.) = \n",
       "   0.7804  0.7804  0.7647  ...   0.4510  0.4745  0.5059\n",
       "   0.8196  0.8431  0.7647  ...   0.4902  0.5216  0.5137\n",
       "   0.8667  0.8039  0.7490  ...   0.4510  0.4510  0.4196\n",
       "            ...             ⋱             ...          \n",
       "   0.3255  0.3255  0.4353  ...   0.0431  0.0431  0.0275\n",
       "   0.3255  0.4431  0.5451  ...   0.0353  0.0353  0.0275\n",
       "   0.3020  0.3961  0.4275  ...   0.0196  0.0196  0.0275\n",
       "      ⋮ \n",
       " \n",
       " (3 ,0 ,.,.) = \n",
       "   0.4510  0.4431  0.4353  ...   0.4353  0.4510  0.4667\n",
       "   0.4431  0.4353  0.4510  ...   0.5216  0.5451  0.5529\n",
       "   0.4588  0.4667  0.4824  ...   0.6000  0.5843  0.5373\n",
       "            ...             ⋱             ...          \n",
       "   0.7647  0.7176  0.6784  ...   0.8510  0.8353  0.7882\n",
       "   0.7020  0.7098  0.7333  ...   0.8667  0.8353  0.7804\n",
       "   0.7412  0.7804  0.8196  ...   0.8118  0.7882  0.7490\n",
       " \n",
       " (3 ,1 ,.,.) = \n",
       "   0.5765  0.5686  0.5608  ...   0.5922  0.6157  0.6235\n",
       "   0.5686  0.5608  0.5765  ...   0.6471  0.6706  0.6784\n",
       "   0.5843  0.5922  0.6078  ...   0.7176  0.7255  0.6941\n",
       "            ...             ⋱             ...          \n",
       "   0.3490  0.3412  0.3490  ...   0.2863  0.2784  0.2471\n",
       "   0.3255  0.3490  0.3882  ...   0.2941  0.2784  0.2314\n",
       "   0.3490  0.3569  0.3804  ...   0.2706  0.2392  0.2078\n",
       " \n",
       " (3 ,2 ,.,.) = \n",
       "   0.8588  0.8510  0.8431  ...   0.8745  0.9059  0.9059\n",
       "   0.8510  0.8431  0.8588  ...   0.9059  0.9373  0.9373\n",
       "   0.8667  0.8745  0.8824  ...   0.9608  0.9765  0.9608\n",
       "            ...             ⋱             ...          \n",
       "   0.0275  0.0510  0.0353  ...  -0.2078 -0.1922 -0.2157\n",
       "   0.0039  0.0275  0.0431  ...  -0.2000 -0.2000 -0.2392\n",
       "  -0.0353 -0.0510 -0.0275  ...  -0.2235 -0.2235 -0.2471\n",
       " [torch.FloatTensor of size 4x3x32x32], \n",
       "  2\n",
       "  4\n",
       "  0\n",
       "  1\n",
       " [torch.LongTensor of size 4]]"
      ]
     },
     "execution_count": 23,
     "metadata": {},
     "output_type": "execute_result"
    }
   ],
   "source": [
    "#trainloaderで一つデータをロードする\n",
    "#実際に4個のバッチになっていることが分かる\n",
    "iter(trainloader).next()"
   ]
  },
  {
   "cell_type": "markdown",
   "metadata": {},
   "source": [
    "画像の描画を行う"
   ]
  },
  {
   "cell_type": "code",
   "execution_count": 24,
   "metadata": {
    "collapsed": true
   },
   "outputs": [],
   "source": [
    "import matplotlib.pyplot as plt\n",
    "import numpy as np\n",
    "%matplotlib inline"
   ]
  },
  {
   "cell_type": "code",
   "execution_count": 25,
   "metadata": {
    "collapsed": false
   },
   "outputs": [
    {
     "name": "stdout",
     "output_type": "stream",
     "text": [
      "(3, 36, 138)\n",
      "(36, 138, 3)\n",
      " ship  deer  frog  deer\n"
     ]
    },
    {
     "data": {
      "image/png": "[encoded data removed]",
      "text/plain": [
       "<matplotlib.figure.Figure at 0x1188dca90>"
      ]
     },
     "metadata": {},
     "output_type": "display_data"
    }
   ],
   "source": [
    "#描画関数の設定\n",
    "def imshow(img):\n",
    "    img = img / 2 + 0.5     # 標準化した画像を元の値に変換\n",
    "    npimg = img.numpy()\n",
    "    #imshowするためにはチャネル数が最後にないといけないので、配列の入れ替えを行う必要がある\n",
    "    plt.imshow(np.transpose(npimg, (1, 2, 0)))\n",
    "\n",
    "#4個分の画像とラベルの読み込み\n",
    "dataiter = iter(trainloader)\n",
    "images, labels = dataiter.next()\n",
    "\n",
    "#描画\n",
    "imshow(torchvision.utils.make_grid(images))\n",
    "\n",
    "#実際の型を確認\n",
    "print(torchvision.utils.make_grid(images).numpy().shape)\n",
    "print(np.transpose(torchvision.utils.make_grid(images).numpy(), (1, 2, 0)).shape)\n",
    "\n",
    "#ラベルの出力：classesのラベルとの対応を抽出\n",
    "print(' '.join('%5s' % classes[labels[j]] for j in range(4)))"
   ]
  },
  {
   "cell_type": "code",
   "execution_count": 26,
   "metadata": {
    "collapsed": true
   },
   "outputs": [],
   "source": [
    "from torch.autograd import Variable\n",
    "import torch.nn as nn\n",
    "import torch.nn.functional as F\n",
    "\n",
    "#ネットワーク定義\n",
    "class Net(nn.Module):\n",
    "    def __init__(self):\n",
    "        super(Net, self).__init__()\n",
    "        self.conv1 = nn.Conv2d(3, 6, 5)\n",
    "        self.pool = nn.MaxPool2d(2, 2)\n",
    "        self.conv2 = nn.Conv2d(6, 16, 5)\n",
    "        self.fc1 = nn.Linear(16 * 5 * 5, 120)\n",
    "        self.fc2 = nn.Linear(120, 84)\n",
    "        self.fc3 = nn.Linear(84, 10)\n",
    "\n",
    "    def forward(self, x):\n",
    "        x = self.pool(F.relu(self.conv1(x)))\n",
    "        x = self.pool(F.relu(self.conv2(x)))\n",
    "        x = x.view(-1, 16 * 5 * 5)\n",
    "        x = F.relu(self.fc1(x))\n",
    "        x = F.relu(self.fc2(x))\n",
    "        x = self.fc3(x)\n",
    "        return x\n",
    "\n",
    "\n",
    "net = Net()"
   ]
  },
  {
   "cell_type": "code",
   "execution_count": 27,
   "metadata": {
    "collapsed": true
   },
   "outputs": [],
   "source": [
    "import torch.optim as optim\n",
    "\n",
    "#Loss関数の指定\n",
    "criterion = nn.CrossEntropyLoss()\n",
    "\n",
    "#Optimizerの指定\n",
    "optimizer = optim.SGD(net.parameters(), lr=0.001, momentum=0.9)"
   ]
  },
  {
   "cell_type": "code",
   "execution_count": 28,
   "metadata": {
    "collapsed": false
   },
   "outputs": [
    {
     "name": "stdout",
     "output_type": "stream",
     "text": [
      "[1,  2000] loss: 2.252\n",
      "[1,  4000] loss: 1.914\n",
      "[1,  6000] loss: 1.737\n",
      "[1,  8000] loss: 1.623\n",
      "[1, 10000] loss: 1.563\n",
      "[1, 12000] loss: 1.502\n",
      "[2,  2000] loss: 1.433\n",
      "[2,  4000] loss: 1.398\n",
      "[2,  6000] loss: 1.350\n",
      "[2,  8000] loss: 1.369\n",
      "[2, 10000] loss: 1.333\n",
      "[2, 12000] loss: 1.320\n",
      "Finished Training\n"
     ]
    }
   ],
   "source": [
    "#トレーニング\n",
    "#エポック数の指定\n",
    "for epoch in range(2):  # loop over the dataset multiple times\n",
    "    \n",
    "    #データ全てのトータルロス\n",
    "    running_loss = 0.0 \n",
    "    \n",
    "    \n",
    "    for i, data in enumerate(trainloader):\n",
    "        \n",
    "        #入力データ・ラベルに分割\n",
    "        # get the inputs\n",
    "        inputs, labels = data\n",
    "        \n",
    "        # Variableに変形\n",
    "        # wrap them in Variable\n",
    "        inputs, labels = Variable(inputs), Variable(labels)\n",
    "\n",
    "        # optimizerの初期化\n",
    "        # zero the parameter gradients\n",
    "        optimizer.zero_grad()\n",
    "\n",
    "        #一連の流れ\n",
    "        # forward + backward + optimize\n",
    "        outputs = net(inputs)\n",
    "        \n",
    "        #ここでラベルデータに対するCross-Entropyがとられる\n",
    "        loss = criterion(outputs, labels)\n",
    "        loss.backward()\n",
    "        optimizer.step()\n",
    "\n",
    "        # ロスの表示\n",
    "        # print statistics\n",
    "        running_loss += loss.data[0]\n",
    "        if i % 2000 == 1999:    # print every 2000 mini-batches\n",
    "            print('[%d, %5d] loss: %.3f' %\n",
    "                  (epoch + 1, i + 1, running_loss / 2000))\n",
    "            running_loss = 0.0\n",
    "\n",
    "print('Finished Training')"
   ]
  },
  {
   "cell_type": "code",
   "execution_count": 29,
   "metadata": {
    "collapsed": false
   },
   "outputs": [
    {
     "name": "stdout",
     "output_type": "stream",
     "text": [
      "('GroundTruth: ', '  cat  ship  ship plane')\n"
     ]
    },
    {
     "data": {
      "image/png": "[encoded data removed]",
      "text/plain": [
       "<matplotlib.figure.Figure at 0x109384410>"
      ]
     },
     "metadata": {},
     "output_type": "display_data"
    }
   ],
   "source": [
    "#テストについても同様に4つサンプリングする\n",
    "dataiter = iter(testloader)\n",
    "images, labels = dataiter.next()\n",
    "\n",
    "#元画像とラベルを表示\n",
    "# print images\n",
    "imshow(torchvision.utils.make_grid(images))\n",
    "print('GroundTruth: ', ' '.join('%5s' % classes[labels[j]] for j in range(4)))"
   ]
  },
  {
   "cell_type": "code",
   "execution_count": 30,
   "metadata": {
    "collapsed": true
   },
   "outputs": [],
   "source": [
    "#画像をネットワークに通す\n",
    "outputs = net(Variable(images))"
   ]
  },
  {
   "cell_type": "markdown",
   "metadata": {},
   "source": [
    "torch.maxは(data, axis)の引数をとる。0だと行、1だと列を残す<br>\n",
    "返り値は(最大値, 最大値のインデックス)という形"
   ]
  },
  {
   "cell_type": "code",
   "execution_count": 31,
   "metadata": {
    "collapsed": false
   },
   "outputs": [
    {
     "name": "stdout",
     "output_type": "stream",
     "text": [
      "\n",
      "-0.5050 -0.7375  0.0318  2.0775 -1.2698  1.4010 -1.2452  0.2287  0.3779 -0.0887\n",
      " 5.7960  6.1454 -1.4365 -3.2608 -2.7397 -5.5162 -5.0645 -4.5577  6.7317  3.1571\n",
      " 2.3157  2.9648 -0.4178 -1.3273 -1.3465 -2.5114 -2.8913 -1.8249  2.8059  1.7697\n",
      " 3.7896  0.9137  0.0604 -1.3059 -0.1546 -3.0648 -2.2646 -2.2732  4.4053 -0.0805\n",
      "[torch.FloatTensor of size 4x10]\n",
      "\n",
      "(\n",
      " 5.7960  6.1454  0.0604  2.0775 -0.1546  1.4010 -1.2452  0.2287  6.7317  3.1571\n",
      "[torch.FloatTensor of size 1x10]\n",
      ", \n",
      "    1     1     3     0     3     0     0     0     1     1\n",
      "[torch.LongTensor of size 1x10]\n",
      ")\n",
      "(\n",
      " 2.0775\n",
      " 6.7317\n",
      " 2.9648\n",
      " 4.4053\n",
      "[torch.FloatTensor of size 4x1]\n",
      ", \n",
      " 3\n",
      " 8\n",
      " 1\n",
      " 8\n",
      "[torch.LongTensor of size 4x1]\n",
      ")\n"
     ]
    }
   ],
   "source": [
    "#torch.maxの動作確認\n",
    "print (outputs.data)\n",
    "print (torch.max(outputs.data, 0))\n",
    "print (torch.max(outputs.data, 1))"
   ]
  },
  {
   "cell_type": "code",
   "execution_count": 32,
   "metadata": {
    "collapsed": false
   },
   "outputs": [
    {
     "name": "stdout",
     "output_type": "stream",
     "text": [
      "('Predicted: ', '  cat  ship   car  ship')\n"
     ]
    }
   ],
   "source": [
    "#各データのうち、どのラベルが最も可能性が高いか\n",
    "#今回、最終層にソフトマックスをかませていないので純粋に値が一番大きいものを抜く\n",
    "_, predicted = torch.max(outputs.data, 1)\n",
    "\n",
    "print('Predicted: ', ' '.join('%5s' % classes[predicted[j][0]]\n",
    "                              for j in range(4)))"
   ]
  },
  {
   "cell_type": "code",
   "execution_count": 33,
   "metadata": {
    "collapsed": false
   },
   "outputs": [
    {
     "name": "stdout",
     "output_type": "stream",
     "text": [
      "Accuracy of the network on the 10000 test images: 52 %\n"
     ]
    }
   ],
   "source": [
    "#Accuracy\n",
    "correct = 0\n",
    "total = 0\n",
    "for data in testloader:\n",
    "    images, labels = data\n",
    "    outputs = net(Variable(images))\n",
    "    _, predicted = torch.max(outputs.data, 1)\n",
    "    total += labels.size(0)\n",
    "    correct += (predicted == labels).sum()\n",
    "\n",
    "print('Accuracy of the network on the 10000 test images: %d %%' % (\n",
    "    100 * correct / total))"
   ]
  },
  {
   "cell_type": "code",
   "execution_count": 35,
   "metadata": {
    "collapsed": false
   },
   "outputs": [
    {
     "name": "stdout",
     "output_type": "stream",
     "text": [
      "Accuracy of plane : 56 %\n",
      "Accuracy of   car : 72 %\n",
      "Accuracy of  bird : 34 %\n",
      "Accuracy of   cat : 45 %\n",
      "Accuracy of  deer : 45 %\n",
      "Accuracy of   dog : 46 %\n",
      "Accuracy of  frog : 35 %\n",
      "Accuracy of horse : 63 %\n",
      "Accuracy of  ship : 77 %\n",
      "Accuracy of truck : 53 %\n"
     ]
    }
   ],
   "source": [
    "class_correct = list(0. for i in range(10))\n",
    "class_total = list(0. for i in range(10))\n",
    "for data in testloader:\n",
    "    images, labels = data\n",
    "    outputs = net(Variable(images))\n",
    "    _, predicted = torch.max(outputs.data, 1)\n",
    "    c = (predicted == labels).squeeze() #tensorのサイズを4*1->4に圧縮する\n",
    "    #print (c)\n",
    "    #print (predicted == labels)\n",
    "    #break\n",
    "    for i in range(4):\n",
    "        label = labels[i]\n",
    "        class_correct[label] += c[i]\n",
    "        class_total[label] += 1\n",
    "\n",
    "\n",
    "#各ラベルの精度チェック\n",
    "for i in range(10):\n",
    "    print('Accuracy of %5s : %2d %%' % (\n",
    "        classes[i], 100 * class_correct[i] / class_total[i]))"
   ]
  },
  {
   "cell_type": "code",
   "execution_count": null,
   "metadata": {
    "collapsed": true
   },
   "outputs": [],
   "source": []
  }
 ],
 "metadata": {
  "kernelspec": {
   "display_name": "Python 2",
   "language": "python",
   "name": "python2"
  },
  "language_info": {
   "codemirror_mode": {
    "name": "ipython",
    "version": 2
   },
   "file_extension": ".py",
   "mimetype": "text/x-python",
   "name": "python",
   "nbconvert_exporter": "python",
   "pygments_lexer": "ipython2",
   "version": "2.7.11"
  }
 },
 "nbformat": 4,
 "nbformat_minor": 2
}
